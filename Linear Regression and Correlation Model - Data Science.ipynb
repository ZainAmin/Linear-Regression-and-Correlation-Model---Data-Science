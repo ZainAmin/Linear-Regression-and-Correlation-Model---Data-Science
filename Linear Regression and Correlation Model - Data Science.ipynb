{
 "cells": [
  {
   "cell_type": "code",
   "execution_count": 175,
   "metadata": {},
   "outputs": [],
   "source": [
    "import numpy as np               # python library for numerical functions\n",
    "import matplotlib.pyplot as plt  # python library for plotting the graphs\n",
    "import math           "
   ]
  },
  {
   "cell_type": "code",
   "execution_count": 176,
   "metadata": {},
   "outputs": [],
   "source": [
    "# Dataset of temperature(x) in centigrade and breathing rate(y) per minute of goldfish \n",
    "x = [9,12,15,18,21,24,27]           # temperature values\n",
    "y = [48.5,46,59.8,86,86.5,110,124]  # breathing rate values"
   ]
  },
  {
   "cell_type": "code",
   "execution_count": 177,
   "metadata": {},
   "outputs": [
    {
     "data": {
      "image/png": "[encoded data removed]",
      "text/plain": [
       "<matplotlib.figure.Figure at 0xd21b8ab9b0>"
      ]
     },
     "metadata": {},
     "output_type": "display_data"
    }
   ],
   "source": [
    "plt.scatter(x,y)\n",
    "plt.ylabel(\"Breathing Rate\")   # dependent variable\n",
    "plt.xlabel(\"Temperature\")      # independent variable\n",
    "plt.show()"
   ]
  },
  {
   "cell_type": "code",
   "execution_count": 178,
   "metadata": {},
   "outputs": [
    {
     "name": "stdout",
     "output_type": "stream",
     "text": [
      "126\n",
      "560.8\n"
     ]
    }
   ],
   "source": [
    "sum_of_x = np.sum(x) # sum of temperature(x) values\n",
    "sum_of_y = np.sum(y) # sum of breathing rate(y) values\n",
    "print(sum_of_x)\n",
    "print(sum_of_y)"
   ]
  },
  {
   "cell_type": "code",
   "execution_count": 179,
   "metadata": {},
   "outputs": [
    {
     "name": "stdout",
     "output_type": "stream",
     "text": [
      "[ 81 144 225 324 441 576 729]\n",
      "[  2352.25   2116.     3576.04   7396.     7482.25  12100.    15376.  ]\n",
      "2520\n",
      "50398.54\n"
     ]
    }
   ],
   "source": [
    "square_of_x = np.square(x)    # square of temperature(x) values x^2\n",
    "square_of_y = np.square(y)    # square of breathing rate(y) values y^2\n",
    "print(square_of_x)\n",
    "print(square_of_y)\n",
    "sum_of_x_square = np.sum(square_of_x)\n",
    "sum_of_y_square = np.sum(square_of_y)\n",
    "print(sum_of_x_square)\n",
    "print(sum_of_y_square)"
   ]
  },
  {
   "cell_type": "code",
   "execution_count": 180,
   "metadata": {},
   "outputs": [
    {
     "name": "stdout",
     "output_type": "stream",
     "text": [
      "15876\n",
      "314496.64\n"
     ]
    }
   ],
   "source": [
    "square_of_x_whole = np.square(sum_of_x)  \n",
    "square_of_y_whole = np.square(sum_of_y)\n",
    "print(square_of_x_whole)\n",
    "print(square_of_y_whole)"
   ]
  },
  {
   "cell_type": "code",
   "execution_count": 181,
   "metadata": {},
   "outputs": [
    {
     "name": "stdout",
     "output_type": "stream",
     "text": [
      "[436.5, 552, 897.0, 1548, 1816.5, 2640, 3348]\n",
      "11238.0\n"
     ]
    }
   ],
   "source": [
    "z = [a*b for a,b in zip(x,y)] \n",
    "print(z)\n",
    "sum_of_xy = np.sum(z)\n",
    "print(sum_of_xy)"
   ]
  },
  {
   "cell_type": "code",
   "execution_count": 182,
   "metadata": {},
   "outputs": [
    {
     "data": {
      "text/plain": [
       "7"
      ]
     },
     "execution_count": 182,
     "metadata": {},
     "output_type": "execute_result"
    }
   ],
   "source": [
    "len(z)"
   ]
  },
  {
   "cell_type": "code",
   "execution_count": 183,
   "metadata": {},
   "outputs": [
    {
     "name": "stdout",
     "output_type": "stream",
     "text": [
      "[  436.5   552.    897.   1548.   1816.5  2640.   3348. ]\n",
      "11238.0\n"
     ]
    }
   ],
   "source": [
    "product_xy = np.multiply(x,y)\n",
    "print(product_xy)\n",
    "sum_of_product_xy = np.sum(product_xy)\n",
    "print(sum_of_product_xy)"
   ]
  },
  {
   "cell_type": "code",
   "execution_count": 184,
   "metadata": {},
   "outputs": [],
   "source": [
    "def slope_intercept(x_value,y_value):\n",
    "    xs=np.array(x_value)\n",
    "    ys=np.array(y_value)\n",
    "    m =    ( (((len(z))*sum_of_product_xy) - (sum_of_x * sum_of_y ))/\n",
    "        (((len(z))*sum_of_x_square) - (square_of_x_whole)) )\n",
    "    m = round(m,2)\n",
    "    b = (np.mean(ys) - np.mean(xs)*m)\n",
    "    b = round(b,2)\n",
    "    \n",
    "    return m,b"
   ]
  },
  {
   "cell_type": "code",
   "execution_count": 185,
   "metadata": {},
   "outputs": [
    {
     "data": {
      "text/plain": [
       "(4.54, -1.6100000000000001)"
      ]
     },
     "execution_count": 185,
     "metadata": {},
     "output_type": "execute_result"
    }
   ],
   "source": [
    "slope_intercept(x,y)"
   ]
  },
  {
   "cell_type": "code",
   "execution_count": 186,
   "metadata": {},
   "outputs": [],
   "source": [
    "m,b = slope_intercept(x,y)"
   ]
  },
  {
   "cell_type": "code",
   "execution_count": 187,
   "metadata": {},
   "outputs": [],
   "source": [
    "reg_line = [(m*xs)+b for xs in x]"
   ]
  },
  {
   "cell_type": "code",
   "execution_count": 188,
   "metadata": {},
   "outputs": [
    {
     "data": {
      "image/png": "[encoded data removed]",
      "text/plain": [
       "<matplotlib.figure.Figure at 0xd21c973b70>"
      ]
     },
     "metadata": {},
     "output_type": "display_data"
    }
   ],
   "source": [
    "plt.scatter(x,y,color=\"red\")\n",
    "plt.plot(x,reg_line)\n",
    "plt.ylabel(\"Breathing Rate\")\n",
    "plt.xlabel(\"Temperature\")\n",
    "plt.title(\"Regression line\")\n",
    "plt.show()"
   ]
  },
  {
   "cell_type": "code",
   "execution_count": 189,
   "metadata": {},
   "outputs": [
    {
     "name": "stdout",
     "output_type": "stream",
     "text": [
      "86.92\n"
     ]
    }
   ],
   "source": [
    "d = 19.5\n",
    "prediction = (m*d) + b\n",
    "print(prediction)"
   ]
  },
  {
   "cell_type": "code",
   "execution_count": 190,
   "metadata": {},
   "outputs": [
    {
     "name": "stdout",
     "output_type": "stream",
     "text": [
      "48.33\n"
     ]
    }
   ],
   "source": [
    "d = 11\n",
    "prediction = (m*d) + b\n",
    "print(prediction)"
   ]
  },
  {
   "cell_type": "code",
   "execution_count": 191,
   "metadata": {},
   "outputs": [
    {
     "name": "stdout",
     "output_type": "stream",
     "text": [
      "0.974007736642\n",
      "97.4007736642\n"
     ]
    }
   ],
   "source": [
    "correlation = ( (((len(z))*sum_of_product_xy) - (sum_of_x * sum_of_y ))/\n",
    "               sqrt( ((7*sum_of_x_square)-square_of_x_whole)*((7*sum_of_y_square)-square_of_y_whole) ))   \n",
    "print(correlation)\n",
    "print(correlation*100)"
   ]
  },
  {
   "cell_type": "code",
   "execution_count": null,
   "metadata": {},
   "outputs": [],
   "source": []
  }
 ],
 "metadata": {
  "kernelspec": {
   "display_name": "Python 3",
   "language": "python",
   "name": "python3"
  },
  "language_info": {
   "codemirror_mode": {
    "name": "ipython",
    "version": 3
   },
   "file_extension": ".py",
   "mimetype": "text/x-python",
   "name": "python",
   "nbconvert_exporter": "python",
   "pygments_lexer": "ipython3",
   "version": "3.5.1"
  }
 },
 "nbformat": 4,
 "nbformat_minor": 2
}
